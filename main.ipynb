{
 "cells": [
  {
   "cell_type": "markdown",
   "metadata": {},
   "source": [
    "Import the necessary packages and functions."
   ]
  },
  {
   "cell_type": "code",
   "execution_count": 1,
   "metadata": {},
   "outputs": [],
   "source": [
    "from tools import *"
   ]
  },
  {
   "cell_type": "markdown",
   "metadata": {},
   "source": [
    "Upload your file."
   ]
  },
  {
   "cell_type": "code",
   "execution_count": 2,
   "metadata": {
    "scrolled": true
   },
   "outputs": [
    {
     "data": {
      "application/vnd.jupyter.widget-view+json": {
       "model_id": "74ef2cb1d0c74e2bb39055652971a232",
       "version_major": 2,
       "version_minor": 0
      },
      "text/plain": [
       "FileUpload(value={}, accept='.xlsx', description='Upload')"
      ]
     },
     "metadata": {},
     "output_type": "display_data"
    }
   ],
   "source": [
    "display(myupload)"
   ]
  },
  {
   "cell_type": "markdown",
   "metadata": {},
   "source": [
    "Select the sheets in your file that are of interest."
   ]
  },
  {
   "cell_type": "code",
   "execution_count": 3,
   "metadata": {},
   "outputs": [],
   "source": [
    "sheets_selection = get_sheets_selection(myupload)"
   ]
  },
  {
   "cell_type": "code",
   "execution_count": 4,
   "metadata": {
    "scrolled": true
   },
   "outputs": [
    {
     "data": {
      "application/vnd.jupyter.widget-view+json": {
       "model_id": "589fc1a2aed04375bcb983389b2b555b",
       "version_major": 2,
       "version_minor": 0
      },
      "text/plain": [
       "SelectMultiple(description='Sheetnames', index=(0,), options=('Sheet1',), value=('Sheet1',))"
      ]
     },
     "metadata": {},
     "output_type": "display_data"
    }
   ],
   "source": [
    "display(sheets_selection)"
   ]
  },
  {
   "cell_type": "markdown",
   "metadata": {},
   "source": [
    "For each sheet, select the column which contains the event names to parse."
   ]
  },
  {
   "cell_type": "code",
   "execution_count": 5,
   "metadata": {
    "scrolled": true
   },
   "outputs": [
    {
     "data": {
      "text/html": [
       "<div>\n",
       "<style scoped>\n",
       "    .dataframe tbody tr th:only-of-type {\n",
       "        vertical-align: middle;\n",
       "    }\n",
       "\n",
       "    .dataframe tbody tr th {\n",
       "        vertical-align: top;\n",
       "    }\n",
       "\n",
       "    .dataframe thead th {\n",
       "        text-align: right;\n",
       "    }\n",
       "</style>\n",
       "<table border=\"1\" class=\"dataframe\">\n",
       "  <thead>\n",
       "    <tr style=\"text-align: right;\">\n",
       "      <th></th>\n",
       "      <th>Unnamed: 0</th>\n",
       "      <th>ISO3</th>\n",
       "      <th>Name</th>\n",
       "      <th>Year</th>\n",
       "      <th>Start Date</th>\n",
       "      <th>Event Name</th>\n",
       "      <th>TC_name</th>\n",
       "      <th>ibtracs_id</th>\n",
       "      <th>basin</th>\n",
       "      <th>New Displacements</th>\n",
       "    </tr>\n",
       "  </thead>\n",
       "  <tbody>\n",
       "    <tr>\n",
       "      <th>0</th>\n",
       "      <td>0</td>\n",
       "      <td>CUB</td>\n",
       "      <td>Cuba</td>\n",
       "      <td>2008</td>\n",
       "      <td>2008-08-09</td>\n",
       "      <td>Hurricane Ike</td>\n",
       "      <td>IKE</td>\n",
       "      <td>2008245N17323</td>\n",
       "      <td>NaN</td>\n",
       "      <td>2616000.0</td>\n",
       "    </tr>\n",
       "    <tr>\n",
       "      <th>1</th>\n",
       "      <td>1</td>\n",
       "      <td>MDG</td>\n",
       "      <td>Madagascar</td>\n",
       "      <td>2009</td>\n",
       "      <td>2009-01-01</td>\n",
       "      <td>Cyclones Eric and Fanele</td>\n",
       "      <td>ERIC</td>\n",
       "      <td>2009017S15059</td>\n",
       "      <td>SI</td>\n",
       "      <td>4012.0</td>\n",
       "    </tr>\n",
       "    <tr>\n",
       "      <th>2</th>\n",
       "      <td>2</td>\n",
       "      <td>MDG</td>\n",
       "      <td>Madagascar</td>\n",
       "      <td>2009</td>\n",
       "      <td>2009-01-01</td>\n",
       "      <td>Cyclones Eric and Fanele</td>\n",
       "      <td>FANELE</td>\n",
       "      <td>2009017S20043</td>\n",
       "      <td>SI</td>\n",
       "      <td>4012.0</td>\n",
       "    </tr>\n",
       "    <tr>\n",
       "      <th>3</th>\n",
       "      <td>3</td>\n",
       "      <td>BGD</td>\n",
       "      <td>Bangladesh</td>\n",
       "      <td>2009</td>\n",
       "      <td>2009-01-01</td>\n",
       "      <td>Cyclone 'Bijli'</td>\n",
       "      <td>BIJLI</td>\n",
       "      <td>2009104N13088</td>\n",
       "      <td>NI</td>\n",
       "      <td>NaN</td>\n",
       "    </tr>\n",
       "    <tr>\n",
       "      <th>4</th>\n",
       "      <td>4</td>\n",
       "      <td>PHL</td>\n",
       "      <td>Philippines</td>\n",
       "      <td>2009</td>\n",
       "      <td>2009-01-01</td>\n",
       "      <td>Typhoon 'Dante' (Kujira)</td>\n",
       "      <td>KUJIRA</td>\n",
       "      <td>2009121N13124</td>\n",
       "      <td>WP</td>\n",
       "      <td>54718.0</td>\n",
       "    </tr>\n",
       "    <tr>\n",
       "      <th>...</th>\n",
       "      <td>...</td>\n",
       "      <td>...</td>\n",
       "      <td>...</td>\n",
       "      <td>...</td>\n",
       "      <td>...</td>\n",
       "      <td>...</td>\n",
       "      <td>...</td>\n",
       "      <td>...</td>\n",
       "      <td>...</td>\n",
       "      <td>...</td>\n",
       "    </tr>\n",
       "    <tr>\n",
       "      <th>548</th>\n",
       "      <td>703</td>\n",
       "      <td>SOM</td>\n",
       "      <td>Somalia</td>\n",
       "      <td>2020</td>\n",
       "      <td>2020-11-21</td>\n",
       "      <td>Somalia, Yemen: Cyclone Gati - 21/11/2020</td>\n",
       "      <td>GATI</td>\n",
       "      <td>2020327N11056</td>\n",
       "      <td>NI</td>\n",
       "      <td>42100.0</td>\n",
       "    </tr>\n",
       "    <tr>\n",
       "      <th>549</th>\n",
       "      <td>704</td>\n",
       "      <td>IND</td>\n",
       "      <td>India</td>\n",
       "      <td>2020</td>\n",
       "      <td>2020-11-23</td>\n",
       "      <td>India: Tropical Cyclone NIVAR - Tamil Nadu, An...</td>\n",
       "      <td>NIVAR</td>\n",
       "      <td>2020329N10084</td>\n",
       "      <td>NI</td>\n",
       "      <td>272306.0</td>\n",
       "    </tr>\n",
       "    <tr>\n",
       "      <th>550</th>\n",
       "      <td>705</td>\n",
       "      <td>IND</td>\n",
       "      <td>India</td>\n",
       "      <td>2020</td>\n",
       "      <td>2020-11-30</td>\n",
       "      <td>Sri Lanka, India: Tropical Cyclone Burevi - 30...</td>\n",
       "      <td>BUREVI</td>\n",
       "      <td>2020337N08085</td>\n",
       "      <td>NI</td>\n",
       "      <td>72957.0</td>\n",
       "    </tr>\n",
       "    <tr>\n",
       "      <th>551</th>\n",
       "      <td>706</td>\n",
       "      <td>LKA</td>\n",
       "      <td>Sri Lanka</td>\n",
       "      <td>2020</td>\n",
       "      <td>2020-11-30</td>\n",
       "      <td>Sri Lanka, India: Tropical Cyclone Burevi - 30...</td>\n",
       "      <td>BUREVI</td>\n",
       "      <td>2020337N08085</td>\n",
       "      <td>NI</td>\n",
       "      <td>14924.0</td>\n",
       "    </tr>\n",
       "    <tr>\n",
       "      <th>552</th>\n",
       "      <td>707</td>\n",
       "      <td>FJI</td>\n",
       "      <td>Fiji</td>\n",
       "      <td>2020</td>\n",
       "      <td>2020-12-13</td>\n",
       "      <td>Fiji, Vanuatu: Cyclone Yasa - countrywide - 16...</td>\n",
       "      <td>YASA</td>\n",
       "      <td>2020348S14173</td>\n",
       "      <td>SP</td>\n",
       "      <td>23413.0</td>\n",
       "    </tr>\n",
       "  </tbody>\n",
       "</table>\n",
       "<p>553 rows × 10 columns</p>\n",
       "</div>"
      ],
      "text/plain": [
       "     Unnamed: 0 ISO3         Name  Year Start Date  \\\n",
       "0             0  CUB         Cuba  2008 2008-08-09   \n",
       "1             1  MDG   Madagascar  2009 2009-01-01   \n",
       "2             2  MDG   Madagascar  2009 2009-01-01   \n",
       "3             3  BGD   Bangladesh  2009 2009-01-01   \n",
       "4             4  PHL  Philippines  2009 2009-01-01   \n",
       "..          ...  ...          ...   ...        ...   \n",
       "548         703  SOM      Somalia  2020 2020-11-21   \n",
       "549         704  IND        India  2020 2020-11-23   \n",
       "550         705  IND        India  2020 2020-11-30   \n",
       "551         706  LKA    Sri Lanka  2020 2020-11-30   \n",
       "552         707  FJI         Fiji  2020 2020-12-13   \n",
       "\n",
       "                                            Event Name TC_name     ibtracs_id  \\\n",
       "0                                        Hurricane Ike     IKE  2008245N17323   \n",
       "1                             Cyclones Eric and Fanele    ERIC  2009017S15059   \n",
       "2                             Cyclones Eric and Fanele  FANELE  2009017S20043   \n",
       "3                                      Cyclone 'Bijli'   BIJLI  2009104N13088   \n",
       "4                             Typhoon 'Dante' (Kujira)  KUJIRA  2009121N13124   \n",
       "..                                                 ...     ...            ...   \n",
       "548          Somalia, Yemen: Cyclone Gati - 21/11/2020    GATI  2020327N11056   \n",
       "549  India: Tropical Cyclone NIVAR - Tamil Nadu, An...   NIVAR  2020329N10084   \n",
       "550  Sri Lanka, India: Tropical Cyclone Burevi - 30...  BUREVI  2020337N08085   \n",
       "551  Sri Lanka, India: Tropical Cyclone Burevi - 30...  BUREVI  2020337N08085   \n",
       "552  Fiji, Vanuatu: Cyclone Yasa - countrywide - 16...    YASA  2020348S14173   \n",
       "\n",
       "    basin  New Displacements  \n",
       "0     NaN          2616000.0  \n",
       "1      SI             4012.0  \n",
       "2      SI             4012.0  \n",
       "3      NI                NaN  \n",
       "4      WP            54718.0  \n",
       "..    ...                ...  \n",
       "548    NI            42100.0  \n",
       "549    NI           272306.0  \n",
       "550    NI            72957.0  \n",
       "551    NI            14924.0  \n",
       "552    SP            23413.0  \n",
       "\n",
       "[553 rows x 10 columns]"
      ]
     },
     "metadata": {},
     "output_type": "display_data"
    },
    {
     "data": {
      "application/vnd.jupyter.widget-view+json": {
       "model_id": "0282dfb6eb84458b9954f9a4ece7149b",
       "version_major": 2,
       "version_minor": 0
      },
      "text/plain": [
       "RadioButtons(description='Columns', options=('Unnamed: 0', 'ISO3', 'Name', 'Year', 'Start Date', 'Event Name',…"
      ]
     },
     "metadata": {},
     "output_type": "display_data"
    }
   ],
   "source": [
    "column_widgets = get_columns_selection(sheets_selection)"
   ]
  },
  {
   "cell_type": "markdown",
   "metadata": {},
   "source": [
    "Launch the parsing (can take a few moments)."
   ]
  },
  {
   "cell_type": "code",
   "execution_count": 13,
   "metadata": {},
   "outputs": [],
   "source": [
    "parse_names(sheets_selection, column_widgets)"
   ]
  },
  {
   "cell_type": "markdown",
   "metadata": {},
   "source": [
    "Congrats! Your file was succesfully saved under `outputs.xlsx`."
   ]
  }
 ],
 "metadata": {
  "interpreter": {
   "hash": "31f2aee4e71d21fbe5cf8b01ff0e069b9275f58929596ceb00d14d90e3e16cd6"
  },
  "kernelspec": {
   "display_name": "Python 3 (ipykernel)",
   "language": "python",
   "name": "python3"
  },
  "language_info": {
   "codemirror_mode": {
    "name": "ipython",
    "version": 3
   },
   "file_extension": ".py",
   "mimetype": "text/x-python",
   "name": "python",
   "nbconvert_exporter": "python",
   "pygments_lexer": "ipython3",
   "version": "3.7.4"
  }
 },
 "nbformat": 4,
 "nbformat_minor": 2
}
